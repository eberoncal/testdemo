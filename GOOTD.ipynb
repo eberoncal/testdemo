{
  "cells": [
    {
      "cell_type": "markdown",
      "metadata": {
        "id": "view-in-github",
        "colab_type": "text"
      },
      "source": [
        "<a href=\"https://colab.research.google.com/github/eberoncal/testdemo/blob/main/Jupyter.ipynb\" target=\"_parent\"><img src=\"https://colab.research.google.com/assets/colab-badge.svg\" alt=\"Open In Colab\"/></a>"
      ]
    },
    {
      "metadata": {
        "collapsed": true,
        "id": "jugnK72qiiBw"
      },
      "cell_type": "markdown",
      "source": [
        "# My Jupyter Notebook on IBM Watson Studio"
      ]
    },
    {
      "metadata": {
        "id": "1E6K6qT_iiB1"
      },
      "cell_type": "markdown",
      "source": [
        "**Eduardo Beroncal**\n",
        "Data Analyst"
      ]
    },
    {
      "metadata": {
        "id": "Wowif4c8iiB2"
      },
      "cell_type": "markdown",
      "source": [
        "*I am interested in Data Science because I love the art of data visualizaiton and be able to communicate a data-driven decision story.*"
      ]
    },
    {
      "metadata": {
        "id": "ef4LSSh_iiB2"
      },
      "cell_type": "markdown",
      "source": [
        "The code below is arithmetic operations."
      ]
    },
    {
      "metadata": {
        "id": "EmVFiIriiiB3",
        "outputId": "ef0c1fce-bf6c-40cf-cbd5-03d864924e15"
      },
      "cell_type": "code",
      "source": [
        "1 + 1"
      ],
      "execution_count": null,
      "outputs": [
        {
          "output_type": "execute_result",
          "execution_count": 7,
          "data": {
            "text/plain": "2"
          },
          "metadata": {}
        }
      ]
    },
    {
      "metadata": {
        "id": "B7BUojTkiiB6"
      },
      "cell_type": "markdown",
      "source": [
        "![SquatSquad](http://dbkpacxbzpzwl.cloudfront.net/gymshark%20women.jpg)\n",
        "\n",
        "|Clothing Brand| Activity | Color |\n",
        "|----|----|----|\n",
        "|Gymshark | Gym | Turquoise|\n",
        "|ALO | Yoga | Green|\n",
        "|Nike| Train| Yellow|\n",
        "\n",
        "[GOOTD](http://dbkpacxbzpzwl.cloudfront.net/gymshark%20women.jpg)\n",
        "\n",
        "Objectives:\n",
        "+ sweat\n",
        "+ be healthy\n",
        "+ relieve stress\n",
        "\n"
      ]
    },
    {
      "metadata": {
        "id": "mPh6EoWaiiB7"
      },
      "cell_type": "code",
      "source": [],
      "execution_count": null,
      "outputs": []
    }
  ],
  "metadata": {
    "kernelspec": {
      "name": "python3",
      "display_name": "Python 3.10",
      "language": "python"
    },
    "language_info": {
      "name": "python",
      "version": "3.10.14",
      "mimetype": "text/x-python",
      "codemirror_mode": {
        "name": "ipython",
        "version": 3
      },
      "pygments_lexer": "ipython3",
      "nbconvert_exporter": "python",
      "file_extension": ".py"
    },
    "colab": {
      "provenance": [],
      "include_colab_link": true
    }
  },
  "nbformat": 4,
  "nbformat_minor": 0
}
