{
  "nbformat": 4,
  "nbformat_minor": 0,
  "metadata": {
    "colab": {
      "provenance": [],
      "toc_visible": true,
      "authorship_tag": "ABX9TyNBKDe7DyKiIhqCG4qQ7IKL",
      "include_colab_link": true
    },
    "kernelspec": {
      "name": "python3",
      "display_name": "Python 3"
    },
    "language_info": {
      "name": "python"
    }
  },
  "cells": [
    {
      "cell_type": "markdown",
      "metadata": {
        "id": "view-in-github",
        "colab_type": "text"
      },
      "source": [
        "<a href=\"https://colab.research.google.com/github/eberoncal/testdemo/blob/main/DataScienceEcosystem.ipynb\" target=\"_parent\"><img src=\"https://colab.research.google.com/assets/colab-badge.svg\" alt=\"Open In Colab\"/></a>"
      ]
    },
    {
      "cell_type": "markdown",
      "source": [
        "# Data Science Tools and Ecosystem"
      ],
      "metadata": {
        "id": "IRcWOXDW_s-H"
      }
    },
    {
      "cell_type": "markdown",
      "source": [
        "In this notebook, Data Science Tools and Ecosystems are summarized."
      ],
      "metadata": {
        "id": "WYmkwFNwDeTk"
      }
    },
    {
      "cell_type": "markdown",
      "source": [
        "**Objectives:**\n",
        "\n",
        "+ List popular languages for data science\n",
        "+ List commonly used library for data science\n",
        "+ List Data Science tools\n",
        "+ Arithmetic expressions in Python"
      ],
      "metadata": {
        "id": "Csrr6DOQIEAK"
      }
    },
    {
      "cell_type": "markdown",
      "source": [
        "Some of the popular languages that Data Science use are:\n",
        "\n",
        "1. R\n",
        "2. SQL\n",
        "3. Julia\n",
        "4. Python"
      ],
      "metadata": {
        "id": "Nt09wvYxELgm"
      }
    },
    {
      "cell_type": "markdown",
      "source": [
        "Some of the commonly used libraries used by Data Scientists include:\n",
        "\n",
        "1. Pandas\n",
        "2. ggplot2\n",
        "3. NumPy\n"
      ],
      "metadata": {
        "id": "6ejEZRfOEyG2"
      }
    },
    {
      "cell_type": "markdown",
      "source": [
        "|Data Science Tools|\n",
        "----\n",
        "|R Studio|\n",
        "|Anaconda|\n",
        "|Google Colab|\n",
        "|GitHub|\n",
        "\n"
      ],
      "metadata": {
        "id": "mNSALkRUFZpv"
      }
    },
    {
      "cell_type": "markdown",
      "source": [
        "### Below are a few examples of evaluating arithmetic expressions in Python."
      ],
      "metadata": {
        "id": "dgPecF1OFVOT"
      }
    },
    {
      "cell_type": "code",
      "source": [
        "# This is simple arithmetic expression to add and multiply integers.\n",
        "(3*4)+5"
      ],
      "metadata": {
        "colab": {
          "base_uri": "https://localhost:8080/"
        },
        "id": "kl5n5YpaGbyr",
        "outputId": "03070257-2e7a-4267-e4c6-e93a7d59adc3"
      },
      "execution_count": 7,
      "outputs": [
        {
          "output_type": "execute_result",
          "data": {
            "text/plain": [
              "17"
            ]
          },
          "metadata": {},
          "execution_count": 7
        }
      ]
    },
    {
      "cell_type": "code",
      "source": [
        "# This will convert 200 minutes to hours by dividing by 60.\n",
        "200/60"
      ],
      "metadata": {
        "colab": {
          "base_uri": "https://localhost:8080/"
        },
        "id": "XEV4LRqEHlG4",
        "outputId": "cd2334cd-62f2-47c6-ed9f-dc9a16c876ba"
      },
      "execution_count": 9,
      "outputs": [
        {
          "output_type": "execute_result",
          "data": {
            "text/plain": [
              "3.3333333333333335"
            ]
          },
          "metadata": {},
          "execution_count": 9
        }
      ]
    },
    {
      "cell_type": "markdown",
      "source": [
        "## Author\n",
        "Eduardo Beroncal"
      ],
      "metadata": {
        "id": "47eQw8vVIBrG"
      }
    }
  ]
}